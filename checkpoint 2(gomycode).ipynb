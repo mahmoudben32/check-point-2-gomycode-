{
 "cells": [
  {
   "cell_type": "markdown",
   "id": "36c209a4",
   "metadata": {},
   "source": [
    "# Question 1 :"
   ]
  },
  {
   "cell_type": "markdown",
   "id": "234361d5",
   "metadata": {},
   "source": [
    "Write a program that will find all numbers which are divisible by 7 but are not a multiple of 5, between 2000 and 3200 (both included). The numbers obtained should be printed in a list."
   ]
  },
  {
   "cell_type": "markdown",
   "id": "77325c41",
   "metadata": {},
   "source": [
    "### Solution"
   ]
  },
  {
   "cell_type": "code",
   "execution_count": 3,
   "id": "d0519253",
   "metadata": {},
   "outputs": [
    {
     "name": "stdout",
     "output_type": "stream",
     "text": [
      "[2030, 2065, 2100, 2135, 2170, 2205, 2240, 2275, 2310, 2345, 2380, 2415, 2450, 2485, 2520, 2555, 2590, 2625, 2660, 2695, 2730, 2765, 2800, 2835, 2870, 2905, 2940, 2975, 3010, 3045, 3080, 3115, 3150, 3185]\n"
     ]
    }
   ],
   "source": [
    "list = []\n",
    "for x in range (2000,3200):\n",
    "    if (x%7==0) and (x%5==0):\n",
    "        list.append(x)\n",
    "print(list)"
   ]
  },
  {
   "cell_type": "markdown",
   "id": "e6770ec9",
   "metadata": {},
   "source": [
    "# Question 2 :"
   ]
  },
  {
   "cell_type": "markdown",
   "id": "ca84d48b",
   "metadata": {},
   "source": [
    "Write a program that can compute the factorial of a given number. (the factorial of n is the product of all positive integers less than or equal to n)."
   ]
  },
  {
   "cell_type": "markdown",
   "id": "42bb8acf",
   "metadata": {},
   "source": [
    "### Solution"
   ]
  },
  {
   "cell_type": "code",
   "execution_count": 6,
   "id": "3986dba8",
   "metadata": {},
   "outputs": [
    {
     "name": "stdout",
     "output_type": "stream",
     "text": [
      "Enter a number: 5\n",
      "The factorial of 5 is 120\n"
     ]
    }
   ],
   "source": [
    "num = int(input(\"Enter a number: \"))    \n",
    "factorial = 1    \n",
    "if num < 0:    \n",
    "    print(\"Factoriel doesn't exist for negative numbers\")    \n",
    "elif num == 0:    \n",
    "    print(\"The factorial of 0 is 1\")    \n",
    "else:    \n",
    "    for i in range(1,num + 1):    \n",
    "        factorial = factorial*i    \n",
    "print(\"The factorial of\",num,\"is\",factorial)  "
   ]
  },
  {
   "cell_type": "markdown",
   "id": "c09a4f6f",
   "metadata": {},
   "source": [
    "# Question 3 :"
   ]
  },
  {
   "cell_type": "markdown",
   "id": "d777918e",
   "metadata": {},
   "source": [
    "With a given integer number n, write a program to generate a dictionary that contains (i, i*i) such that is an integral number between 1 and n (both included). and then the program should print the dictionary.Suppose the following input is supplied to the program: 8 Then, the output should be: {1: 1, 2: 4, 3: 9, 4: 16, 5: 25, 6: 36, 7: 49, 8: 64}  "
   ]
  },
  {
   "cell_type": "code",
   "execution_count": 1,
   "id": "0859a0c9",
   "metadata": {},
   "outputs": [
    {
     "name": "stdout",
     "output_type": "stream",
     "text": [
      "enter a nuber:8\n",
      "{1: 1, 2: 4, 3: 9, 4: 16, 5: 25, 6: 36, 7: 49, 8: 64}\n"
     ]
    }
   ],
   "source": [
    "n = int(input(\"enter a nuber:\"))\n",
    "dict = {i:i**2 for i in range (1,n+1)}\n",
    "print(dict)"
   ]
  },
  {
   "cell_type": "markdown",
   "id": "74eaf89d",
   "metadata": {},
   "source": [
    "# Question 4 :"
   ]
  },
  {
   "cell_type": "markdown",
   "id": "2869906d",
   "metadata": {},
   "source": [
    "Given a non-empty string and an int n, return a new string where the char at index n has been removed. The value of n will be a valid index of a char in the original string (i.e. n will be in the range 0..len(str)-1 inclusive). \n",
    "\n",
    "missing_char('kitten', 1) → 'ktten'    for example here we remove \"i\" which is located in the index 1\n",
    "\n",
    "missing_char('kitten', 0) → 'itten'   here we remove \"k\" which is in the index 0\n",
    "\n",
    "missing_char('kitten', 4) → 'kittn'   here we remove \"e\" which is in the index 4"
   ]
  },
  {
   "cell_type": "markdown",
   "id": "3a830214",
   "metadata": {},
   "source": [
    "### solution"
   ]
  },
  {
   "cell_type": "code",
   "execution_count": 2,
   "id": "87abe5d2",
   "metadata": {},
   "outputs": [
    {
     "name": "stdout",
     "output_type": "stream",
     "text": [
      "enter a word : kitten\n",
      "ktten\n",
      "itten\n",
      "kittn\n"
     ]
    }
   ],
   "source": [
    "def missing_char(str, n):\n",
    "      first_part = str[:n] \n",
    "      last_part = str[n+1:]\n",
    "      return first_part + last_part\n",
    "noun = input(\"enter a word : \")\n",
    "print(missing_char(noun, 1))\n",
    "print(missing_char(noun, 0))\n",
    "print(missing_char(noun, 4))"
   ]
  },
  {
   "cell_type": "markdown",
   "id": "e1b1b8ed",
   "metadata": {},
   "source": [
    "# Question 5 :"
   ]
  },
  {
   "cell_type": "markdown",
   "id": "31569238",
   "metadata": {},
   "source": [
    "Write a NumPy program to convert a NumPy array into a Python list structure.\n",
    "\n",
    "Expected Output: \n",
    "\n",
    "Original array elements: [[0 1] [2 3] [4 5]] \n",
    "\n",
    "Array to list: [[0, 1], [2, 3], [4, 5]] "
   ]
  },
  {
   "cell_type": "markdown",
   "id": "a710b61a",
   "metadata": {},
   "source": [
    "### solution"
   ]
  },
  {
   "cell_type": "code",
   "execution_count": 3,
   "id": "2bef2f68",
   "metadata": {},
   "outputs": [
    {
     "name": "stdout",
     "output_type": "stream",
     "text": [
      "Original array elements:\n",
      "[[0 1]\n",
      " [2 3]\n",
      " [4 5]]\n",
      "Array to list:\n",
      "[[0, 1], [2, 3], [4, 5]]\n"
     ]
    }
   ],
   "source": [
    "import numpy as np\n",
    "x= np.arange(6).reshape(3, 2)\n",
    "print(\"Original array elements:\")\n",
    "print(x)\n",
    "print(\"Array to list:\")\n",
    "print(x.tolist())"
   ]
  },
  {
   "cell_type": "markdown",
   "id": "841f24f2",
   "metadata": {},
   "source": [
    "# Question 6 :"
   ]
  },
  {
   "cell_type": "markdown",
   "id": "00f1828a",
   "metadata": {},
   "source": [
    "Write a NumPy program to compute the covariance matrix of two given arrays. "
   ]
  },
  {
   "cell_type": "markdown",
   "id": "78a9d509",
   "metadata": {},
   "source": [
    "### solution "
   ]
  },
  {
   "cell_type": "code",
   "execution_count": 5,
   "id": "6b977004",
   "metadata": {},
   "outputs": [
    {
     "name": "stdout",
     "output_type": "stream",
     "text": [
      "\n",
      "Original array1:\n",
      "[0 1 2]\n",
      "\n",
      "Original array1:\n",
      "[2 1 0]\n",
      "\n",
      "Covariance matrix of the said arrays:\n",
      " [[ 1. -1.]\n",
      " [-1.  1.]]\n"
     ]
    }
   ],
   "source": [
    "import numpy as np\n",
    "a = np.array([0, 1, 2])\n",
    "b = np.array([2, 1, 0])\n",
    "print(\"\\nOriginal array1:\")\n",
    "print(a)\n",
    "print(\"\\nOriginal array1:\")\n",
    "print(b)\n",
    "print(\"\\nCovariance matrix of the said arrays:\\n\",np.cov(a, b))"
   ]
  },
  {
   "cell_type": "markdown",
   "id": "eed35981",
   "metadata": {},
   "source": [
    "# ex 7:"
   ]
  },
  {
   "cell_type": "markdown",
   "id": "81b6e814",
   "metadata": {},
   "source": [
    "Question: Write a program that calculates and prints the value according to the given formula: Q = Square root of [(2 * C * D)/H] \n",
    "\n",
    "The following are the fixed values of C and H: C is 50. H is 30. \n",
    "\n",
    "D is the variable whose values should be input into your program in a comma-separated sequence. (that means D contains more than value)\n",
    "\n",
    "Example Let's assume the following comma-separated input sequence is given to the program: 100,150,180 The output of the program should be: 18,22,24 \n",
    "\n",
    "To further explain this, we will obtain a result for each value of D:  Q1= Square root of [(2 * C * 100)/H] =18, Q2= Square root of [(2 * C * 150)/H] = 22 and Q3 = Square root of [(2 * C * 180)/H]  = 24\n",
    "\n",
    "Hints: If the output received is in decimal form, it should be rounded off to its nearest value (for example, if the output received is 26.0, it should be printed as 26) In case of input data being supplied to the question, it should be assumed to be a console input. "
   ]
  },
  {
   "cell_type": "markdown",
   "id": "e746466f",
   "metadata": {},
   "source": [
    "### solution"
   ]
  },
  {
   "cell_type": "code",
   "execution_count": 4,
   "id": "190ca8b2",
   "metadata": {},
   "outputs": [
    {
     "name": "stdout",
     "output_type": "stream",
     "text": [
      "give D: 2\n",
      "[3]\n"
     ]
    }
   ],
   "source": [
    "numbers = input(\"give D: \")\n",
    "numbers = numbers.split(',')\n",
    "import numpy as np\n",
    "result = []\n",
    "#result is a list \n",
    "for D in numbers:\n",
    "    Q = round(np.sqrt(2 * 50 * int(D) / 30))\n",
    "    result.append(Q)\n",
    "\n",
    "print(result)"
   ]
  },
  {
   "cell_type": "code",
   "execution_count": null,
   "id": "27bcdb8f",
   "metadata": {},
   "outputs": [],
   "source": []
  }
 ],
 "metadata": {
  "kernelspec": {
   "display_name": "Python 3",
   "language": "python",
   "name": "python3"
  },
  "language_info": {
   "codemirror_mode": {
    "name": "ipython",
    "version": 3
   },
   "file_extension": ".py",
   "mimetype": "text/x-python",
   "name": "python",
   "nbconvert_exporter": "python",
   "pygments_lexer": "ipython3",
   "version": "3.8.8"
  }
 },
 "nbformat": 4,
 "nbformat_minor": 5
}
